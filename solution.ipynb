{
  "cells": [
    {
      "cell_type": "markdown",
      "metadata": {
        "id": "XWWQXgAevOK9"
      },
      "source": [
        "# Boston Housing\n",
        "\n",
        "Criaremos modelos preditivos para o setor imobiliário utilizando [_The Boston Housing Dataset_](https://www.cs.toronto.edu/~delve/data/boston/bostonDetail.html).\n",
        "\n",
        "Para a conclusão do trabalho, é importante que ele tenha:\n",
        "1. **Descrição dos dados**;\n",
        "2. **Divisão dos dados** em treino e teste;\n",
        "3. **Visualização dos dados**;\n",
        "4. **Preparação dos dados**;\n",
        "5. **Comparação de pelo menos 3 modelos de machine learning**, com ajustes de hiperparâmetros e justificativa da escolha do melhor;\n",
        "6. **Justificativa da métrica escolhida**;\n",
        "7. **Discussão da técnica de validação** e explicação de como o modelo evita *snooping bias/data leakage*;\n",
        "8. **Teste final** para obter o erro aproximado.\n"
      ]
    },
    {
      "cell_type": "markdown",
      "metadata": {
        "id": "eSoDKAyyxMhs"
      },
      "source": [
        "## Configuração inicial\n",
        "\n",
        "Nesta etapa, vamos configurar o ambiente de trabalho importando as bibliotecas necessárias para manipulação de dados:\n",
        "\n",
        "- **Numpy**: realizar cálculos e trabalhar com arrays;\n",
        "- **matplotlib**: criar gráficos e visualizações."
      ]
    },
    {
      "cell_type": "code",
      "execution_count": 11,
      "metadata": {
        "id": "BgjcyWiRxSpT"
      },
      "outputs": [],
      "source": [
        "import numpy as np\n",
        "\n",
        "%matplotlib inline\n",
        "import matplotlib as mpl\n",
        "import matplotlib.pyplot as plt\n",
        "\n",
        "mpl.rc('axes', labelsize=14)\n",
        "mpl.rc('xtick', labelsize=12)\n",
        "mpl.rc('ytick', labelsize=12)"
      ]
    },
    {
      "cell_type": "markdown",
      "metadata": {
        "id": "znBL9tsJzXyS"
      },
      "source": [
        "Além disso, é importante fixarmos a _seed_ para que os resultados sejam reprodutíveis."
      ]
    },
    {
      "cell_type": "code",
      "execution_count": 12,
      "metadata": {
        "id": "aftSmAjXzk4z"
      },
      "outputs": [],
      "source": [
        "seed = 42\n",
        "np.random.seed(seed)"
      ]
    },
    {
      "cell_type": "markdown",
      "metadata": {
        "id": "lHhfL4EP1BqA"
      },
      "source": [
        "## Obtenção do conjunto de dados\n",
        "\n",
        "Nesta seção, vamos carregar o conjunto de dados **Boston Housing**. Este conjunto de dados contém informações coletadas pelo _U.S Census Service_ sobre moradia na área de Boston, Massachusetts.\n",
        "\n",
        "Note que a [URL](http://lib.stat.cmu.edu/datasets/boston) contém uma breve descrição do conjunto de dados. Além disso, os dados não estão bem formatados: as informações de cada casa estão distribuídas em 2 linhas. Precisamos levar isso em consideração ao importar os dados, reorganizando as linhas de modo que cada uma contenha todas as informações relevantes para cada imóvel.\n",
        "\n",
        "Abaixo, fazemos isso ao carregar os dados, ajustando a formatação."
      ]
    },
    {
      "cell_type": "code",
      "execution_count": 16,
      "metadata": {
        "id": "E_MSvHXl1c_E"
      },
      "outputs": [],
      "source": [
        "import pandas as pd\n",
        "\n",
        "data_url = \"http://lib.stat.cmu.edu/datasets/boston\"\n",
        "\n",
        "raw_df = pd.read_csv(data_url, sep=\"\\s+\", skiprows=22, header=None)\n",
        "housing = np.hstack([raw_df.values[::2, :], raw_df.values[1::2, :2]])"
      ]
    },
    {
      "cell_type": "markdown",
      "metadata": {
        "id": "CEiCv43c-AOv"
      },
      "source": [
        "## Descrição do conjunto"
      ]
    },
    {
      "cell_type": "markdown",
      "metadata": {
        "id": "OUIxkwDH-Myd"
      },
      "source": [
        "**Observação 1**\n",
        "\n",
        "Esse conjunto de dados possui um problema ético significativo. Ao tentar utilizar o método `load_boston` da biblioteca `scikit-learn`, recebemos o seguinte aviso:\n",
        "\n",
        "> The Boston housing prices dataset has an ethical problem: as investigated in [1], the authors of this dataset engineered a non-invertible variable \"B\" assuming that racial self-segregation had a positive impact on house prices [2]. Furthermore the goal of the research that led to the creation of this dataset was to study the impact of air quality but it did not give adequate demonstration of the validity of this assumption.\n",
        "\n",
        "> [1] M Carlisle.\n",
        "\"Racist data destruction?\"\n",
        "<https://medium.com/@docintangible/racist-data-destruction-113e3eff54a8>\n",
        "\n",
        "> [2] Harrison Jr, David, and Daniel L. Rubinfeld.\n",
        "\"Hedonic housing prices and the demand for clean air.\"\n",
        "Journal of environmental economics and management 5.1 (1978): 81-102.\n",
        "<https://www.researchgate.net/publication/4974606_Hedonic_housing_prices_and_the_demand_for_clean_air>\n",
        "\n",
        "Basicamente, os autores criaram a coluna não-inversível **B**, assumindo que a auto-segregação racial tinha um impacto positivo nos preços das casas. Além disso, a pesquisa que levou à criação deste conjunto de dados pretendia analisar o impacto da qualidade do ar, mas não conseguiu demonstrar essa ideia de forma adequada.\n",
        "\n",
        "\n",
        "\n",
        "\n",
        "\n",
        "\n"
      ]
    },
    {
      "cell_type": "markdown",
      "metadata": {
        "id": "AqGmia6uCfpA"
      },
      "source": [
        "**Observação 2**\n",
        "\n",
        "Como dito [aqui](https://www.cs.toronto.edu/~delve/data/boston/bostonDetail.html), a variável **MEDV** parece estar limitada em 50. Essa limitação é indicada pelo fato de que o maior preço médio reportado é exatamente \\$50.000 em 16 casos, enquanto 15 casos apresentam preços entre \\$40.000 e \\$50.000. Porém, os autores da pesquisa não fazem menção a essa limitação.\n",
        "\n",
        "\n",
        "\n",
        "\n",
        "\n",
        "\n",
        "\n",
        "\n",
        "\n",
        "\n",
        "\n",
        "\n"
      ]
    }
  ],
  "metadata": {
    "colab": {
      "provenance": []
    },
    "kernelspec": {
      "display_name": "Python 3",
      "name": "python3"
    },
    "language_info": {
      "name": "python",
      "version": "3.9.13"
    }
  },
  "nbformat": 4,
  "nbformat_minor": 0
}
