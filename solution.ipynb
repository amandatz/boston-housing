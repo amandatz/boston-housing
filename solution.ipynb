{
  "cells": [
    {
      "cell_type": "markdown",
      "metadata": {
        "id": "XWWQXgAevOK9"
      },
      "source": [
        "# Boston Housing\n",
        "\n",
        "Criaremos modelos preditivos para o setor imobiliário utilizando [_The Boston Housing Dataset_](https://www.cs.toronto.edu/~delve/data/boston/bostonDetail.html).\n",
        "\n",
        "Para a conclusão do trabalho, é importante que ele contenha:\n",
        "1. **Descrição dos dados**;\n",
        "2. **Divisão dos dados** em treino e teste;\n",
        "3. **Visualização dos dados**;\n",
        "4. **Preparação dos dados**;\n",
        "5. **Comparação de pelo menos 3 modelos de machine learning**, com ajustes de hiperparâmetros e justificativa da escolha do melhor;\n",
        "6. **Justificativa da métrica escolhida**;\n",
        "7. **Discussão da técnica de validação** e explicação de como o modelo evita *snooping bias/data leakage*;\n",
        "8. **Teste final** para obter o erro aproximado.\n"
      ]
    },
    {
      "cell_type": "markdown",
      "source": [
        "## Configuração inicial\n",
        "\n",
        "Nesta etapa, vamos configurar o ambiente de trabalho importando as bibliotecas necessárias para manipulação de dados:\n",
        "\n",
        "- **Numpy**: realizar cálculos e trabalhar com arrays;\n",
        "- **matplotlib**: criar gráficos e visualizações."
      ],
      "metadata": {
        "id": "eSoDKAyyxMhs"
      }
    },
    {
      "cell_type": "code",
      "source": [
        "import numpy as np\n",
        "\n",
        "%matplotlib inline\n",
        "import matplotlib as mpl\n",
        "import matplotlib.pyplot as plt\n",
        "\n",
        "mpl.rc('axes', labelsize=14)\n",
        "mpl.rc('xtick', labelsize=12)\n",
        "mpl.rc('ytick', labelsize=12)"
      ],
      "metadata": {
        "id": "BgjcyWiRxSpT"
      },
      "execution_count": 11,
      "outputs": []
    },
    {
      "cell_type": "markdown",
      "source": [
        "Além disso, é importante fixarmos a _seed_ para que os resultados sejam reprodutíveis."
      ],
      "metadata": {
        "id": "znBL9tsJzXyS"
      }
    },
    {
      "cell_type": "code",
      "source": [
        "seed = 42\n",
        "np.random.seed(seed)"
      ],
      "metadata": {
        "id": "aftSmAjXzk4z"
      },
      "execution_count": 12,
      "outputs": []
    },
    {
      "cell_type": "markdown",
      "source": [
        "## Obtenção e descrição do conjunto de dados\n",
        "\n",
        "Nesta seção, vamos carregar o conjunto de dados **Boston Housing**. Este conjunto de dados contém informações coletadas pelo _U.S Census Service_ sobre moradia na área de Boston, Massachusetts.\n",
        "\n",
        "Note que a [URL](http://lib.stat.cmu.edu/datasets/boston) contém uma breve descrição do conjunto de dados. Além disso, os dados não estão bem formatados: as informações de cada casa estão distribuídas em 2 linhas. Precisamos levar isso em consideração ao importar os dados, reorganizando as linhas de modo que cada uma contenha todas as informações relevantes para cada casa.\n",
        "\n",
        "Abaixo, fazemos isso ao carregar os dados, ajustando a formatação."
      ],
      "metadata": {
        "id": "lHhfL4EP1BqA"
      }
    },
    {
      "cell_type": "code",
      "source": [
        "import pandas as pd\n",
        "\n",
        "data_url = \"http://lib.stat.cmu.edu/datasets/boston\"\n",
        "\n",
        "raw_df = pd.read_csv(data_url, sep=\"\\s+\", skiprows=22, header=None)\n",
        "housing = np.hstack([raw_df.values[::2, :], raw_df.values[1::2, :2]])"
      ],
      "metadata": {
        "id": "E_MSvHXl1c_E"
      },
      "execution_count": 14,
      "outputs": []
    }
  ],
  "metadata": {
    "language_info": {
      "name": "python"
    },
    "colab": {
      "provenance": []
    },
    "kernelspec": {
      "name": "python3",
      "display_name": "Python 3"
    }
  },
  "nbformat": 4,
  "nbformat_minor": 0
}